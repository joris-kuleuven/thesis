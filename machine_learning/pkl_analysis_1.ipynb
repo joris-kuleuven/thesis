{
 "cells": [
  {
   "cell_type": "code",
   "execution_count": null,
   "metadata": {},
   "outputs": [],
   "source": [
    "import pickle\n",
    "import json\n",
    "import matplotlib.pyplot as plt\n",
    "import numpy as np\n",
    "import pandas as pd\n",
    "import os\n"
   ]
  },
  {
   "cell_type": "code",
   "execution_count": null,
   "metadata": {},
   "outputs": [],
   "source": [
    "ml_vars_dir = \"/Users/jorismachon/Documents/thesis/ML_data/vars\""
   ]
  },
  {
   "cell_type": "code",
   "execution_count": null,
   "metadata": {},
   "outputs": [],
   "source": [
    "def load_variables(file_name):\n",
    "    file_path = os.path.join(ml_vars_dir, file_name)\n",
    "    with open(file_path, 'rb') as handle:\n",
    "        loaded_variables = pickle.load(handle)    \n",
    "    return loaded_variables"
   ]
  },
  {
   "cell_type": "code",
   "execution_count": null,
   "metadata": {},
   "outputs": [],
   "source": [
    "import os\n",
    "import pickle\n",
    "\n",
    "def load_all_variables(directory, prefix):\n",
    "    loaded_variables = {}\n",
    "\n",
    "    # Sort the files alphabetically before iterating over them\n",
    "    for file_name in sorted(os.listdir(directory)):\n",
    "        if file_name.startswith(prefix) and file_name.endswith('.pkl'):  # only load .pkl files with the specified prefix\n",
    "            file_path = os.path.join(directory, file_name)\n",
    "            with open(file_path, 'rb') as handle:\n",
    "                # Drop the prefix and '.pkl'\n",
    "                key = os.path.splitext(file_name[len(prefix):])[0]\n",
    "                loaded_variables[key] = pickle.load(handle)\n",
    "\n",
    "    return loaded_variables"
   ]
  },
  {
   "cell_type": "code",
   "execution_count": null,
   "metadata": {},
   "outputs": [],
   "source": [
    "def load_show_metrics(file_name):\n",
    "    print(\"Showing metrics for file\", file_name)\n",
    "    # Load variables from the file\n",
    "    loaded_variables = load_variables(file_name)\n",
    "    # Return each variable separately\n",
    "    tprs = loaded_variables['tprs']\n",
    "    aucs = loaded_variables['aucs']\n",
    "    N = loaded_variables['N']\n",
    "    P = loaded_variables['P']\n",
    "    importances_random = loaded_variables['importances_random']\n",
    "    scores = loaded_variables['scores']\n",
    "    TP = loaded_variables['TP']\n",
    "    FP = loaded_variables['FP']\n",
    "    TN = loaded_variables['TN']\n",
    "    FN = loaded_variables['FN']\n",
    "    tnList = loaded_variables['tnList']\n",
    "    fpList = loaded_variables['fpList']\n",
    "    fnList = loaded_variables['fnList']\n",
    "    tpList = loaded_variables['tpList']\n",
    "    precisionList = loaded_variables['precisionList']\n",
    "    f1List = loaded_variables['f1List']\n",
    "    mccList = loaded_variables['mccList']\n",
    "    train_splits = loaded_variables['train_splits']\n",
    "    test_splits = loaded_variables['test_splits']\n",
    "    train_anomaly_percentage = loaded_variables['train_anomaly_percentage']\n",
    "    test_anomaly_percentage = loaded_variables['test_anomaly_percentage']\n",
    "    train_anomaly_absolute = loaded_variables['train_anomaly_absolute']\n",
    "    test_anomaly_absolute = loaded_variables['test_anomaly_absolute']\n",
    "    \n",
    "    mean_auc = np.mean(aucs)\n",
    "    std_auc = np.std(aucs)\n",
    "    auc_meanpercent = 100 * mean_auc\n",
    "    auc_stdpercent = 100 * std_auc\n",
    "    \n",
    "    \"\"\"Show metrics\"\"\"\n",
    "    \n",
    "    # plt.clf()  # Clear the current figure\n",
    "    \n",
    "    print(\"TN: %.02f %% ± %.02f %% - FN: %.02f %% ± %.02f %%\" % (np.mean(tnList),\n",
    "                                                                    np.std(tnList),\n",
    "                                                                    np.mean(fnList),\n",
    "                                                                    np.std(fnList)))\n",
    "    print(\"FP: %.02f %% ± %.02f %% - TP: %.02f %% ± %.02f %%\" % (np.mean(fpList),\n",
    "                                                                    np.std(fpList),\n",
    "                                                                    np.mean(tpList),\n",
    "                                                                    np.std(tpList)))\n",
    "\n",
    "    print(\n",
    "        \"Precision: %.02f %% ± %.02f %% - F1: %.02f %% ± %.02f %% - MCC: %.02f %% ± %.02f %%\" % (np.mean(precisionList),\n",
    "                                                                                                    np.std(precisionList),\n",
    "                                                                                                    np.mean(f1List),\n",
    "                                                                                                    np.std(f1List),\n",
    "                                                                                                    np.mean(mccList),\n",
    "                                                                                                    np.std(mccList)))\n",
    "\n",
    "    print(\"AUC: %.02f %% ± %.02f %%\" % (auc_meanpercent, auc_stdpercent))\n",
    "  "
   ]
  },
  {
   "cell_type": "code",
   "execution_count": null,
   "metadata": {},
   "outputs": [],
   "source": [
    "import matplotlib.pyplot as plt\n",
    "\n",
    "def load_plot_metrics(file_name):\n",
    "    print(\"Showing metrics for file\", file_name)\n",
    "    # Load variables from the file\n",
    "    loaded_variables = load_variables(file_name)\n",
    "    f1List = loaded_variables['f1List']\n",
    "    tnList = loaded_variables['tnList']\n",
    "    fpList = loaded_variables['fpList']\n",
    "    fnList = loaded_variables['fnList']\n",
    "    tpList = loaded_variables['tpList']\n",
    "\n",
    "    # Create 2x2 grid of boxplots\n",
    "    fig, axs = plt.subplots(2, 2, figsize=(10, 10))\n",
    "    # Boxplots\n",
    "    axs[0, 0].boxplot(tnList, vert=False)\n",
    "    axs[0, 0].set_title('TN List')\n",
    "    axs[0, 1].boxplot(fpList, vert=False)\n",
    "    axs[0, 1].set_title('FP List')\n",
    "    axs[1, 0].boxplot(fnList, vert=False)\n",
    "    axs[1, 0].set_title('FN List')\n",
    "    axs[1, 1].boxplot(tpList, vert=False)\n",
    "    axs[1, 1].set_title('TP List')\n",
    "    # Display the plot\n",
    "    plt.tight_layout()\n",
    "    plt.show()\n",
    "    \n",
    "    # Plot boxplot of scores\n",
    "    plt.figure()\n",
    "    plt.boxplot(f1List)\n",
    "    plt.title('F1 Distribution')\n",
    "    plt.show()"
   ]
  },
  {
   "cell_type": "code",
   "execution_count": null,
   "metadata": {},
   "outputs": [],
   "source": [
    "def plot_boxplots(data, feature_name, y_label, title):\n",
    "    fig, ax = plt.subplots()\n",
    "\n",
    "    # Loop over the data and create a boxplot for each set of values\n",
    "    for i, (label, values) in enumerate(data.items()):\n",
    "        dataList = values[feature_name]\n",
    "        \n",
    "        ax.boxplot(dataList, positions=[i], widths=0.6, vert=True, patch_artist=True, labels=[label])\n",
    "\n",
    "    # Set the x-axis labels and adjust the plot\n",
    "    ax.set_xticks(range(len(data)))\n",
    "    ax.set_xticklabels(data.keys(), rotation = 90)\n",
    "    y_label = y_label + \" (%)\"\n",
    "    ax.set_ylabel(y_label)\n",
    "    \n",
    "    # Set the title for the plot\n",
    "    ax.set_title(title)\n",
    "\n",
    "    plt.tight_layout()\n",
    "\n",
    "    # Display the plot\n",
    "    plt.show()"
   ]
  },
  {
   "cell_type": "code",
   "execution_count": null,
   "metadata": {},
   "outputs": [],
   "source": [
    "def calc_recall(data):\n",
    "    for i, (label, values) in enumerate(data.items()):\n",
    "        TPList = values['TP']\n",
    "        FNList = values['FN']\n",
    "        recallList = [tp / (tp + fn) for tp, fn in zip(TPList, FNList)]\n",
    "        print(i, \" \", recallList, \" \", label)"
   ]
  },
  {
   "cell_type": "code",
   "execution_count": null,
   "metadata": {},
   "outputs": [],
   "source": [
    "def draw_recall_boxplots(data):\n",
    "    fig, ax = plt.subplots()\n",
    "\n",
    "    # Loop over the data and create a boxplot for each set of values\n",
    "    for i, (label, values) in enumerate(data.items()):\n",
    "        TPList = values['TP']\n",
    "        FNList = values['FN']\n",
    "        recallList = [tp / (tp + fn) for tp, fn in zip(TPList, FNList)]\n",
    "        \n",
    "        ax.boxplot(recallList, positions=[i], widths=0.6, vert=True, patch_artist=True, labels=[label])\n",
    "\n",
    "    # Set the x-axis labels and adjust the plot\n",
    "    ax.set_xticks(range(len(data)))\n",
    "    ax.set_xticklabels(data.keys(), rotation = 90)\n",
    "    ax.set_ylabel('Recall (%)')\n",
    "    \n",
    "    # Set the title for the plot\n",
    "    ax.set_title('AdaBoost - LOGO\\nRecall for datasets with nulls')\n",
    "\n",
    "    plt.tight_layout()\n",
    "\n",
    "    # Display the plot\n",
    "    plt.show()"
   ]
  },
  {
   "cell_type": "code",
   "execution_count": null,
   "metadata": {},
   "outputs": [],
   "source": [
    "# draw_boxplots(calc_recall(load_all_variables(ml_vars_dir, \"abc_LOGO_with_nulls_dataset\")))\n",
    "draw_recall_boxplots(load_all_variables(ml_vars_dir, \"abc_LOGO_with_nulls_dataset\"))"
   ]
  },
  {
   "cell_type": "code",
   "execution_count": null,
   "metadata": {},
   "outputs": [],
   "source": [
    "plot_boxplots(load_all_variables(ml_vars_dir, 'abc_LOGO_with_nulls_dataset'), 'f1List', 'F1 Score', 'AdaBoost - LOGO\\nF1 for datasets with nulls')"
   ]
  },
  {
   "cell_type": "code",
   "execution_count": null,
   "metadata": {},
   "outputs": [],
   "source": [
    "plot_boxplots(load_all_variables(ml_vars_dir, 'gbc_LOGO_with_nulls_dataset'), 'f1List', 'F1 Score', 'Gradient Boost - LOGO\\nF1 for datasets with nulls')"
   ]
  },
  {
   "cell_type": "code",
   "execution_count": null,
   "metadata": {},
   "outputs": [],
   "source": [
    "plot_boxplots(load_all_variables(ml_vars_dir, 'abc_LOGO_with_nulls_dataset'), 'precisionList', 'Precision', 'Adaboost - LOGO\\nPrecision for datasets with nulls')\n"
   ]
  },
  {
   "cell_type": "code",
   "execution_count": null,
   "metadata": {},
   "outputs": [],
   "source": [
    "plot_boxplots(load_all_variables(ml_vars_dir, 'abc_k5_r1_with_nulls_dataset'), 'f1List', 'F1', 'Adaboost - Kfold 5x1\\nF1 for datasets with nulls')\n"
   ]
  },
  {
   "cell_type": "code",
   "execution_count": null,
   "metadata": {},
   "outputs": [],
   "source": [
    "plot_boxplots(load_all_variables(ml_vars_dir, 'abc_k5_r1_with_nulls_dataset'), 'precisionList', 'F1', 'Adaboost - Kfold 5x1\\nPrecision for datasets with nulls')\n"
   ]
  },
  {
   "cell_type": "code",
   "execution_count": null,
   "metadata": {},
   "outputs": [],
   "source": [
    "plot_boxplots(load_all_variables(ml_vars_dir, 'abc_LOGO_without_nulls_significant_dataset'), 'f1List', 'F1',\n",
    "              'Adaboost - LOGO\\nF1 for datasets without nulls - significant')\n"
   ]
  },
  {
   "cell_type": "code",
   "execution_count": null,
   "metadata": {},
   "outputs": [],
   "source": [
    "plot_boxplots(load_all_variables(ml_vars_dir, 'abc_LOGO_without_nulls_significant_dataset'), 'precisionList', 'Precision',\n",
    "                'Adaboost - LOGO\\nPrecision for datasets without nulls')"
   ]
  },
  {
   "cell_type": "code",
   "execution_count": null,
   "metadata": {},
   "outputs": [],
   "source": [
    "plot_boxplots(load_all_variables(ml_vars_dir, 'abc_LOGO_without_nulls_significant_dataset'), 'f1List', 'F1',\n",
    "                'Adaboost - LOGO\\nF1 for datasets without nulls, significant')"
   ]
  },
  {
   "cell_type": "code",
   "execution_count": null,
   "metadata": {},
   "outputs": [],
   "source": [
    "plot_boxplots(load_all_variables(ml_vars_dir, 'abc_LOGO_with_nulls_significant_dataset'), 'f1List', 'F1',\n",
    "                'Adaboost - LOGO\\nF1 for datasets with nulls, significant')"
   ]
  },
  {
   "cell_type": "code",
   "execution_count": null,
   "metadata": {},
   "outputs": [],
   "source": [
    "plot_boxplots(load_all_variables(ml_vars_dir, 'rfc_LOGO_with_nulls_dataset'), 'f1List', 'F1',\n",
    "                'RFC - LOGO\\nF1 for datasets with nulls')"
   ]
  },
  {
   "cell_type": "markdown",
   "metadata": {},
   "source": [
    "New procedure"
   ]
  },
  {
   "cell_type": "code",
   "execution_count": null,
   "metadata": {},
   "outputs": [],
   "source": [
    "import matplotlib.pyplot as plt\n",
    "import numpy as np\n",
    "\n",
    "def plot_boxplots_table(data, feature_name, y_label, title):\n",
    "    fig, ax = plt.subplots(2, 1, figsize=(10, 10), gridspec_kw={'height_ratios': [4, 1]})\n",
    "\n",
    "    # Prepare data for table\n",
    "    table_data = [['' for _ in range(len(data) + 1)] for _ in range(4)]  # Add extra column for legend\n",
    "\n",
    "    # Add legend to the first column of the table\n",
    "    legends = ['Process', 'Product', 'Textual', 'Author']\n",
    "    for i, legend in enumerate(legends):\n",
    "        table_data[i][0] = legend\n",
    "\n",
    "    # Add dummy boxplot\n",
    "    ax[0].boxplot([], positions=[0], widths=0.6, vert=True, patch_artist=True)\n",
    "\n",
    "    # Loop over the data and create a boxplot for each set of values\n",
    "    for i, (label, values) in enumerate(data.items()):\n",
    "        dataList = values[feature_name]\n",
    "        ax[0].boxplot(dataList, positions=[i + 1], widths=0.6, vert=True, patch_artist=True)  # Shift boxplots to the right\n",
    "\n",
    "        # Convert index to 4-bit binary and set dots in table\n",
    "        binary = format(i + 1, '04b')\n",
    "        for bit_index, bit in enumerate(binary):\n",
    "            if bit == '1':\n",
    "                table_data[bit_index][i + 1] = 'X'  # Shift dots to the right\n",
    "\n",
    "    # Set the x-axis labels and adjust the plot\n",
    "    ax[0].set_xticks(range(len(data) + 1))  # Include dummy boxplot\n",
    "    ax[0].set_xticklabels([''] + list(data.keys()), rotation = 90)  # Add empty label for dummy boxplot\n",
    "    y_label = y_label + \" (%)\"\n",
    "    ax[0].set_ylabel(y_label)\n",
    "    \n",
    "    ax[0].set_xlabel('subset index')\n",
    "    # Set the title for the plot\n",
    "    ax[0].set_title(title)\n",
    "\n",
    "    # Create table\n",
    "    ax[1].axis('tight')\n",
    "    ax[1].axis('off')\n",
    "    table = ax[1].table(cellText=table_data, cellLoc='center', loc='center')\n",
    "\n",
    "    plt.tight_layout()\n",
    "    plt.show()"
   ]
  },
  {
   "cell_type": "code",
   "execution_count": null,
   "metadata": {},
   "outputs": [],
   "source": [
    "plot_boxplots_table(load_all_variables(ml_vars_dir, 'abc_LOGO_with_nulls_dataset'), 'f1List', 'F1', 'AdaBoost - LOGO\\nF1 for datasets with nulls')\n"
   ]
  },
  {
   "cell_type": "code",
   "execution_count": null,
   "metadata": {},
   "outputs": [],
   "source": [
    "plot_boxplots_table(load_all_variables(ml_vars_dir, 'abc_LOGO_with_nulls_dataset'), 'precisionList', 'Precision', 'AdaBoost - LOGO\\nPrecision for datasets with nulls')\n"
   ]
  },
  {
   "cell_type": "code",
   "execution_count": null,
   "metadata": {},
   "outputs": [],
   "source": [
    "import matplotlib.pyplot as plt\n",
    "import numpy as np\n",
    "\n",
    "def plot_recall_boxplots_table(data, feature_name, y_label, title):\n",
    "    fig, ax = plt.subplots(2, 1, figsize=(10, 10), gridspec_kw={'height_ratios': [4, 1]})\n",
    "\n",
    "    # Prepare data for table\n",
    "    table_data = [['' for _ in range(len(data) + 1)] for _ in range(4)]  # Add extra column for legend\n",
    "\n",
    "    # Add legend to the first column of the table\n",
    "    legends = ['Process', 'Product', 'Textual', 'Author']\n",
    "    for i, legend in enumerate(legends):\n",
    "        table_data[i][0] = legend\n",
    "\n",
    "    # Add dummy boxplot\n",
    "    ax[0].boxplot([], positions=[0], widths=0.6, vert=True, patch_artist=True)\n",
    "\n",
    "    # Loop over the data and create a boxplot for each set of values\n",
    "    for i, (label, values) in enumerate(data.items()):\n",
    "        TP = values['TP']\n",
    "        FN = values['FN']\n",
    "        recall = [100*tp / (tp + fn) if tp + fn != 0 else 0 for tp, fn in zip(TP, FN)]  # Compute recall for each pair of values\n",
    "        ax[0].boxplot(recall, positions=[i + 1], widths=0.6, vert=True, patch_artist=True)  # Shift boxplots to the right\n",
    "\n",
    "        # Convert index to 4-bit binary and set dots in table\n",
    "        binary = format(i + 1, '04b')\n",
    "        for bit_index, bit in enumerate(binary):\n",
    "            if bit == '1':\n",
    "                table_data[bit_index][i + 1] = 'X'  # Shift dots to the right\n",
    "\n",
    "    # Set the x-axis labels and adjust the plot\n",
    "    ax[0].set_xticks(range(len(data) + 1))  # Include dummy boxplot\n",
    "    ax[0].set_xticklabels([''] + list(data.keys()), rotation = 90)  # Add empty label for dummy boxplot\n",
    "    y_label = y_label + \" (%)\"\n",
    "    ax[0].set_ylabel(y_label)\n",
    "    ax[0].set_xlabel('subset index')\n",
    "\n",
    "    # Set the title for the plot\n",
    "    ax[0].set_title(title)\n",
    "\n",
    "    # Create table\n",
    "    ax[1].axis('tight')\n",
    "    ax[1].axis('off')\n",
    "    table = ax[1].table(cellText=table_data, cellLoc='center', loc='center')\n",
    "\n",
    "    plt.tight_layout()\n",
    "    plt.show()"
   ]
  },
  {
   "cell_type": "code",
   "execution_count": null,
   "metadata": {},
   "outputs": [],
   "source": [
    "plot_recall_boxplots_table(load_all_variables(ml_vars_dir, 'abc_LOGO_with_nulls_dataset'), '', 'Recall', 'AdaBoost - LOGO\\nRecall for datasets with nulls')"
   ]
  },
  {
   "cell_type": "code",
   "execution_count": null,
   "metadata": {},
   "outputs": [],
   "source": [
    "plot_boxplots_table(load_all_variables(ml_vars_dir, 'rfc_LOGO_with_nulls_dataset'), 'f1List', 'F1', 'Random Forest - LOGO\\nF1 for datasets with nulls')\n"
   ]
  },
  {
   "cell_type": "code",
   "execution_count": null,
   "metadata": {},
   "outputs": [],
   "source": [
    "plot_boxplots_table(load_all_variables(ml_vars_dir, 'gbc_LOGO_with_nulls_dataset'), 'f1List', 'F1', 'Gradient Boost - LOGO\\nF1 for datasets with nulls')\n"
   ]
  },
  {
   "cell_type": "code",
   "execution_count": null,
   "metadata": {},
   "outputs": [],
   "source": []
  }
 ],
 "metadata": {
  "kernelspec": {
   "display_name": ".venv",
   "language": "python",
   "name": "python3"
  },
  "language_info": {
   "codemirror_mode": {
    "name": "ipython",
    "version": 3
   },
   "file_extension": ".py",
   "mimetype": "text/x-python",
   "name": "python",
   "nbconvert_exporter": "python",
   "pygments_lexer": "ipython3",
   "version": "3.8.0"
  }
 },
 "nbformat": 4,
 "nbformat_minor": 2
}
